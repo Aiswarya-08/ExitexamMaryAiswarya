{
  "nbformat": 4,
  "nbformat_minor": 0,
  "metadata": {
    "colab": {
      "provenance": []
    },
    "kernelspec": {
      "name": "python3",
      "display_name": "Python 3"
    },
    "language_info": {
      "name": "python"
    }
  },
  "cells": [
    {
      "cell_type": "code",
      "execution_count": 1,
      "metadata": {
        "id": "LhhGnFUw2ong"
      },
      "outputs": [],
      "source": [
        "import pandas as pd\n",
        "import matplotlib.pyplot as plt\n",
        "import scipy.stats as stats\n",
        "import seaborn as sns\n",
        "import numpy as np\n",
        "import warnings\n",
        "warnings.filterwarnings(\"ignore\")\n",
        "from sklearn.impute import SimpleImputer\n",
        "from sklearn.preprocessing import StandardScaler\n",
        "from sklearn.preprocessing import OneHotEncoder, LabelEncoder, MinMaxScaler\n",
        "from sklearn.neighbors import LocalOutlierFactor\n",
        "from sklearn.ensemble import IsolationForest\n",
        "from sklearn.preprocessing import MinMaxScaler\n",
        "from sklearn.preprocessing import LabelEncoder\n",
        "from scipy.stats import skew"
      ]
    },
    {
      "cell_type": "code",
      "source": [
        "df=pd.read_csv(\"/content/data_car.csv\")"
      ],
      "metadata": {
        "id": "GqwUIXAp6Gwa"
      },
      "execution_count": 35,
      "outputs": []
    },
    {
      "cell_type": "code",
      "source": [
        "df.head(10)"
      ],
      "metadata": {
        "colab": {
          "base_uri": "https://localhost:8080/",
          "height": 809
        },
        "id": "T9pe0MhZ6KdA",
        "outputId": "b29298cb-ef4c-42f9-99f5-713c57316052"
      },
      "execution_count": 36,
      "outputs": [
        {
          "output_type": "execute_result",
          "data": {
            "text/plain": [
              "  Make       Model  Year             Engine Fuel Type  Engine HP  \\\n",
              "0  BMW  1 Series M  2011  premium unleaded (required)      335.0   \n",
              "1  BMW    1 Series  2011  premium unleaded (required)      300.0   \n",
              "2  BMW    1 Series  2011  premium unleaded (required)      300.0   \n",
              "3  BMW    1 Series  2011  premium unleaded (required)      230.0   \n",
              "4  BMW    1 Series  2011  premium unleaded (required)      230.0   \n",
              "5  BMW    1 Series  2012  premium unleaded (required)      230.0   \n",
              "6  BMW    1 Series  2012  premium unleaded (required)      300.0   \n",
              "7  BMW    1 Series  2012  premium unleaded (required)      300.0   \n",
              "8  BMW    1 Series  2012  premium unleaded (required)      230.0   \n",
              "9  BMW    1 Series  2013  premium unleaded (required)      230.0   \n",
              "\n",
              "   Engine Cylinders Transmission Type     Driven_Wheels  Number of Doors  \\\n",
              "0               6.0            MANUAL  rear wheel drive              2.0   \n",
              "1               6.0            MANUAL  rear wheel drive              2.0   \n",
              "2               6.0            MANUAL  rear wheel drive              2.0   \n",
              "3               6.0            MANUAL  rear wheel drive              2.0   \n",
              "4               6.0            MANUAL  rear wheel drive              2.0   \n",
              "5               6.0            MANUAL  rear wheel drive              2.0   \n",
              "6               6.0            MANUAL  rear wheel drive              2.0   \n",
              "7               6.0            MANUAL  rear wheel drive              2.0   \n",
              "8               6.0            MANUAL  rear wheel drive              2.0   \n",
              "9               6.0            MANUAL  rear wheel drive              2.0   \n",
              "\n",
              "                         Market Category Vehicle Size Vehicle Style  \\\n",
              "0  Factory Tuner,Luxury,High-Performance      Compact         Coupe   \n",
              "1                     Luxury,Performance      Compact   Convertible   \n",
              "2                Luxury,High-Performance      Compact         Coupe   \n",
              "3                     Luxury,Performance      Compact         Coupe   \n",
              "4                                 Luxury      Compact   Convertible   \n",
              "5                     Luxury,Performance      Compact         Coupe   \n",
              "6                     Luxury,Performance      Compact   Convertible   \n",
              "7                Luxury,High-Performance      Compact         Coupe   \n",
              "8                                 Luxury      Compact   Convertible   \n",
              "9                                 Luxury      Compact   Convertible   \n",
              "\n",
              "   highway MPG  city mpg  Popularity   MSRP  \n",
              "0           26        19        3916  46135  \n",
              "1           28        19        3916  40650  \n",
              "2           28        20        3916  36350  \n",
              "3           28        18        3916  29450  \n",
              "4           28        18        3916  34500  \n",
              "5           28        18        3916  31200  \n",
              "6           26        17        3916  44100  \n",
              "7           28        20        3916  39300  \n",
              "8           28        18        3916  36900  \n",
              "9           27        18        3916  37200  "
            ],
            "text/html": [
              "\n",
              "  <div id=\"df-49dd6fc7-1c99-48ca-9eaf-f6e952578aee\">\n",
              "    <div class=\"colab-df-container\">\n",
              "      <div>\n",
              "<style scoped>\n",
              "    .dataframe tbody tr th:only-of-type {\n",
              "        vertical-align: middle;\n",
              "    }\n",
              "\n",
              "    .dataframe tbody tr th {\n",
              "        vertical-align: top;\n",
              "    }\n",
              "\n",
              "    .dataframe thead th {\n",
              "        text-align: right;\n",
              "    }\n",
              "</style>\n",
              "<table border=\"1\" class=\"dataframe\">\n",
              "  <thead>\n",
              "    <tr style=\"text-align: right;\">\n",
              "      <th></th>\n",
              "      <th>Make</th>\n",
              "      <th>Model</th>\n",
              "      <th>Year</th>\n",
              "      <th>Engine Fuel Type</th>\n",
              "      <th>Engine HP</th>\n",
              "      <th>Engine Cylinders</th>\n",
              "      <th>Transmission Type</th>\n",
              "      <th>Driven_Wheels</th>\n",
              "      <th>Number of Doors</th>\n",
              "      <th>Market Category</th>\n",
              "      <th>Vehicle Size</th>\n",
              "      <th>Vehicle Style</th>\n",
              "      <th>highway MPG</th>\n",
              "      <th>city mpg</th>\n",
              "      <th>Popularity</th>\n",
              "      <th>MSRP</th>\n",
              "    </tr>\n",
              "  </thead>\n",
              "  <tbody>\n",
              "    <tr>\n",
              "      <th>0</th>\n",
              "      <td>BMW</td>\n",
              "      <td>1 Series M</td>\n",
              "      <td>2011</td>\n",
              "      <td>premium unleaded (required)</td>\n",
              "      <td>335.0</td>\n",
              "      <td>6.0</td>\n",
              "      <td>MANUAL</td>\n",
              "      <td>rear wheel drive</td>\n",
              "      <td>2.0</td>\n",
              "      <td>Factory Tuner,Luxury,High-Performance</td>\n",
              "      <td>Compact</td>\n",
              "      <td>Coupe</td>\n",
              "      <td>26</td>\n",
              "      <td>19</td>\n",
              "      <td>3916</td>\n",
              "      <td>46135</td>\n",
              "    </tr>\n",
              "    <tr>\n",
              "      <th>1</th>\n",
              "      <td>BMW</td>\n",
              "      <td>1 Series</td>\n",
              "      <td>2011</td>\n",
              "      <td>premium unleaded (required)</td>\n",
              "      <td>300.0</td>\n",
              "      <td>6.0</td>\n",
              "      <td>MANUAL</td>\n",
              "      <td>rear wheel drive</td>\n",
              "      <td>2.0</td>\n",
              "      <td>Luxury,Performance</td>\n",
              "      <td>Compact</td>\n",
              "      <td>Convertible</td>\n",
              "      <td>28</td>\n",
              "      <td>19</td>\n",
              "      <td>3916</td>\n",
              "      <td>40650</td>\n",
              "    </tr>\n",
              "    <tr>\n",
              "      <th>2</th>\n",
              "      <td>BMW</td>\n",
              "      <td>1 Series</td>\n",
              "      <td>2011</td>\n",
              "      <td>premium unleaded (required)</td>\n",
              "      <td>300.0</td>\n",
              "      <td>6.0</td>\n",
              "      <td>MANUAL</td>\n",
              "      <td>rear wheel drive</td>\n",
              "      <td>2.0</td>\n",
              "      <td>Luxury,High-Performance</td>\n",
              "      <td>Compact</td>\n",
              "      <td>Coupe</td>\n",
              "      <td>28</td>\n",
              "      <td>20</td>\n",
              "      <td>3916</td>\n",
              "      <td>36350</td>\n",
              "    </tr>\n",
              "    <tr>\n",
              "      <th>3</th>\n",
              "      <td>BMW</td>\n",
              "      <td>1 Series</td>\n",
              "      <td>2011</td>\n",
              "      <td>premium unleaded (required)</td>\n",
              "      <td>230.0</td>\n",
              "      <td>6.0</td>\n",
              "      <td>MANUAL</td>\n",
              "      <td>rear wheel drive</td>\n",
              "      <td>2.0</td>\n",
              "      <td>Luxury,Performance</td>\n",
              "      <td>Compact</td>\n",
              "      <td>Coupe</td>\n",
              "      <td>28</td>\n",
              "      <td>18</td>\n",
              "      <td>3916</td>\n",
              "      <td>29450</td>\n",
              "    </tr>\n",
              "    <tr>\n",
              "      <th>4</th>\n",
              "      <td>BMW</td>\n",
              "      <td>1 Series</td>\n",
              "      <td>2011</td>\n",
              "      <td>premium unleaded (required)</td>\n",
              "      <td>230.0</td>\n",
              "      <td>6.0</td>\n",
              "      <td>MANUAL</td>\n",
              "      <td>rear wheel drive</td>\n",
              "      <td>2.0</td>\n",
              "      <td>Luxury</td>\n",
              "      <td>Compact</td>\n",
              "      <td>Convertible</td>\n",
              "      <td>28</td>\n",
              "      <td>18</td>\n",
              "      <td>3916</td>\n",
              "      <td>34500</td>\n",
              "    </tr>\n",
              "    <tr>\n",
              "      <th>5</th>\n",
              "      <td>BMW</td>\n",
              "      <td>1 Series</td>\n",
              "      <td>2012</td>\n",
              "      <td>premium unleaded (required)</td>\n",
              "      <td>230.0</td>\n",
              "      <td>6.0</td>\n",
              "      <td>MANUAL</td>\n",
              "      <td>rear wheel drive</td>\n",
              "      <td>2.0</td>\n",
              "      <td>Luxury,Performance</td>\n",
              "      <td>Compact</td>\n",
              "      <td>Coupe</td>\n",
              "      <td>28</td>\n",
              "      <td>18</td>\n",
              "      <td>3916</td>\n",
              "      <td>31200</td>\n",
              "    </tr>\n",
              "    <tr>\n",
              "      <th>6</th>\n",
              "      <td>BMW</td>\n",
              "      <td>1 Series</td>\n",
              "      <td>2012</td>\n",
              "      <td>premium unleaded (required)</td>\n",
              "      <td>300.0</td>\n",
              "      <td>6.0</td>\n",
              "      <td>MANUAL</td>\n",
              "      <td>rear wheel drive</td>\n",
              "      <td>2.0</td>\n",
              "      <td>Luxury,Performance</td>\n",
              "      <td>Compact</td>\n",
              "      <td>Convertible</td>\n",
              "      <td>26</td>\n",
              "      <td>17</td>\n",
              "      <td>3916</td>\n",
              "      <td>44100</td>\n",
              "    </tr>\n",
              "    <tr>\n",
              "      <th>7</th>\n",
              "      <td>BMW</td>\n",
              "      <td>1 Series</td>\n",
              "      <td>2012</td>\n",
              "      <td>premium unleaded (required)</td>\n",
              "      <td>300.0</td>\n",
              "      <td>6.0</td>\n",
              "      <td>MANUAL</td>\n",
              "      <td>rear wheel drive</td>\n",
              "      <td>2.0</td>\n",
              "      <td>Luxury,High-Performance</td>\n",
              "      <td>Compact</td>\n",
              "      <td>Coupe</td>\n",
              "      <td>28</td>\n",
              "      <td>20</td>\n",
              "      <td>3916</td>\n",
              "      <td>39300</td>\n",
              "    </tr>\n",
              "    <tr>\n",
              "      <th>8</th>\n",
              "      <td>BMW</td>\n",
              "      <td>1 Series</td>\n",
              "      <td>2012</td>\n",
              "      <td>premium unleaded (required)</td>\n",
              "      <td>230.0</td>\n",
              "      <td>6.0</td>\n",
              "      <td>MANUAL</td>\n",
              "      <td>rear wheel drive</td>\n",
              "      <td>2.0</td>\n",
              "      <td>Luxury</td>\n",
              "      <td>Compact</td>\n",
              "      <td>Convertible</td>\n",
              "      <td>28</td>\n",
              "      <td>18</td>\n",
              "      <td>3916</td>\n",
              "      <td>36900</td>\n",
              "    </tr>\n",
              "    <tr>\n",
              "      <th>9</th>\n",
              "      <td>BMW</td>\n",
              "      <td>1 Series</td>\n",
              "      <td>2013</td>\n",
              "      <td>premium unleaded (required)</td>\n",
              "      <td>230.0</td>\n",
              "      <td>6.0</td>\n",
              "      <td>MANUAL</td>\n",
              "      <td>rear wheel drive</td>\n",
              "      <td>2.0</td>\n",
              "      <td>Luxury</td>\n",
              "      <td>Compact</td>\n",
              "      <td>Convertible</td>\n",
              "      <td>27</td>\n",
              "      <td>18</td>\n",
              "      <td>3916</td>\n",
              "      <td>37200</td>\n",
              "    </tr>\n",
              "  </tbody>\n",
              "</table>\n",
              "</div>\n",
              "      <button class=\"colab-df-convert\" onclick=\"convertToInteractive('df-49dd6fc7-1c99-48ca-9eaf-f6e952578aee')\"\n",
              "              title=\"Convert this dataframe to an interactive table.\"\n",
              "              style=\"display:none;\">\n",
              "        \n",
              "  <svg xmlns=\"http://www.w3.org/2000/svg\" height=\"24px\"viewBox=\"0 0 24 24\"\n",
              "       width=\"24px\">\n",
              "    <path d=\"M0 0h24v24H0V0z\" fill=\"none\"/>\n",
              "    <path d=\"M18.56 5.44l.94 2.06.94-2.06 2.06-.94-2.06-.94-.94-2.06-.94 2.06-2.06.94zm-11 1L8.5 8.5l.94-2.06 2.06-.94-2.06-.94L8.5 2.5l-.94 2.06-2.06.94zm10 10l.94 2.06.94-2.06 2.06-.94-2.06-.94-.94-2.06-.94 2.06-2.06.94z\"/><path d=\"M17.41 7.96l-1.37-1.37c-.4-.4-.92-.59-1.43-.59-.52 0-1.04.2-1.43.59L10.3 9.45l-7.72 7.72c-.78.78-.78 2.05 0 2.83L4 21.41c.39.39.9.59 1.41.59.51 0 1.02-.2 1.41-.59l7.78-7.78 2.81-2.81c.8-.78.8-2.07 0-2.86zM5.41 20L4 18.59l7.72-7.72 1.47 1.35L5.41 20z\"/>\n",
              "  </svg>\n",
              "      </button>\n",
              "      \n",
              "  <style>\n",
              "    .colab-df-container {\n",
              "      display:flex;\n",
              "      flex-wrap:wrap;\n",
              "      gap: 12px;\n",
              "    }\n",
              "\n",
              "    .colab-df-convert {\n",
              "      background-color: #E8F0FE;\n",
              "      border: none;\n",
              "      border-radius: 50%;\n",
              "      cursor: pointer;\n",
              "      display: none;\n",
              "      fill: #1967D2;\n",
              "      height: 32px;\n",
              "      padding: 0 0 0 0;\n",
              "      width: 32px;\n",
              "    }\n",
              "\n",
              "    .colab-df-convert:hover {\n",
              "      background-color: #E2EBFA;\n",
              "      box-shadow: 0px 1px 2px rgba(60, 64, 67, 0.3), 0px 1px 3px 1px rgba(60, 64, 67, 0.15);\n",
              "      fill: #174EA6;\n",
              "    }\n",
              "\n",
              "    [theme=dark] .colab-df-convert {\n",
              "      background-color: #3B4455;\n",
              "      fill: #D2E3FC;\n",
              "    }\n",
              "\n",
              "    [theme=dark] .colab-df-convert:hover {\n",
              "      background-color: #434B5C;\n",
              "      box-shadow: 0px 1px 3px 1px rgba(0, 0, 0, 0.15);\n",
              "      filter: drop-shadow(0px 1px 2px rgba(0, 0, 0, 0.3));\n",
              "      fill: #FFFFFF;\n",
              "    }\n",
              "  </style>\n",
              "\n",
              "      <script>\n",
              "        const buttonEl =\n",
              "          document.querySelector('#df-49dd6fc7-1c99-48ca-9eaf-f6e952578aee button.colab-df-convert');\n",
              "        buttonEl.style.display =\n",
              "          google.colab.kernel.accessAllowed ? 'block' : 'none';\n",
              "\n",
              "        async function convertToInteractive(key) {\n",
              "          const element = document.querySelector('#df-49dd6fc7-1c99-48ca-9eaf-f6e952578aee');\n",
              "          const dataTable =\n",
              "            await google.colab.kernel.invokeFunction('convertToInteractive',\n",
              "                                                     [key], {});\n",
              "          if (!dataTable) return;\n",
              "\n",
              "          const docLinkHtml = 'Like what you see? Visit the ' +\n",
              "            '<a target=\"_blank\" href=https://colab.research.google.com/notebooks/data_table.ipynb>data table notebook</a>'\n",
              "            + ' to learn more about interactive tables.';\n",
              "          element.innerHTML = '';\n",
              "          dataTable['output_type'] = 'display_data';\n",
              "          await google.colab.output.renderOutput(dataTable, element);\n",
              "          const docLink = document.createElement('div');\n",
              "          docLink.innerHTML = docLinkHtml;\n",
              "          element.appendChild(docLink);\n",
              "        }\n",
              "      </script>\n",
              "    </div>\n",
              "  </div>\n",
              "  "
            ]
          },
          "metadata": {},
          "execution_count": 36
        }
      ]
    },
    {
      "cell_type": "code",
      "source": [
        "# Data exploration\n",
        "print(df.shape) # Check number of rows and columns\n",
        "print(df.columns) # Check column names\n",
        "print(df.head()) # Check first few rows of data\n",
        "print(df.info()) # Check data types and non-null values\n",
        "print(df.describe()) # Check summary statistics"
      ],
      "metadata": {
        "colab": {
          "base_uri": "https://localhost:8080/"
        },
        "id": "aNU466jC6N-B",
        "outputId": "0035298b-cf7c-4298-93f2-91334b6bd0b9"
      },
      "execution_count": 37,
      "outputs": [
        {
          "output_type": "stream",
          "name": "stdout",
          "text": [
            "(11914, 16)\n",
            "Index(['Make', 'Model', 'Year', 'Engine Fuel Type', 'Engine HP',\n",
            "       'Engine Cylinders', 'Transmission Type', 'Driven_Wheels',\n",
            "       'Number of Doors', 'Market Category', 'Vehicle Size', 'Vehicle Style',\n",
            "       'highway MPG', 'city mpg', 'Popularity', 'MSRP'],\n",
            "      dtype='object')\n",
            "  Make       Model  Year             Engine Fuel Type  Engine HP  \\\n",
            "0  BMW  1 Series M  2011  premium unleaded (required)      335.0   \n",
            "1  BMW    1 Series  2011  premium unleaded (required)      300.0   \n",
            "2  BMW    1 Series  2011  premium unleaded (required)      300.0   \n",
            "3  BMW    1 Series  2011  premium unleaded (required)      230.0   \n",
            "4  BMW    1 Series  2011  premium unleaded (required)      230.0   \n",
            "\n",
            "   Engine Cylinders Transmission Type     Driven_Wheels  Number of Doors  \\\n",
            "0               6.0            MANUAL  rear wheel drive              2.0   \n",
            "1               6.0            MANUAL  rear wheel drive              2.0   \n",
            "2               6.0            MANUAL  rear wheel drive              2.0   \n",
            "3               6.0            MANUAL  rear wheel drive              2.0   \n",
            "4               6.0            MANUAL  rear wheel drive              2.0   \n",
            "\n",
            "                         Market Category Vehicle Size Vehicle Style  \\\n",
            "0  Factory Tuner,Luxury,High-Performance      Compact         Coupe   \n",
            "1                     Luxury,Performance      Compact   Convertible   \n",
            "2                Luxury,High-Performance      Compact         Coupe   \n",
            "3                     Luxury,Performance      Compact         Coupe   \n",
            "4                                 Luxury      Compact   Convertible   \n",
            "\n",
            "   highway MPG  city mpg  Popularity   MSRP  \n",
            "0           26        19        3916  46135  \n",
            "1           28        19        3916  40650  \n",
            "2           28        20        3916  36350  \n",
            "3           28        18        3916  29450  \n",
            "4           28        18        3916  34500  \n",
            "<class 'pandas.core.frame.DataFrame'>\n",
            "RangeIndex: 11914 entries, 0 to 11913\n",
            "Data columns (total 16 columns):\n",
            " #   Column             Non-Null Count  Dtype  \n",
            "---  ------             --------------  -----  \n",
            " 0   Make               11914 non-null  object \n",
            " 1   Model              11914 non-null  object \n",
            " 2   Year               11914 non-null  int64  \n",
            " 3   Engine Fuel Type   11911 non-null  object \n",
            " 4   Engine HP          11845 non-null  float64\n",
            " 5   Engine Cylinders   11884 non-null  float64\n",
            " 6   Transmission Type  11914 non-null  object \n",
            " 7   Driven_Wheels      11914 non-null  object \n",
            " 8   Number of Doors    11908 non-null  float64\n",
            " 9   Market Category    8172 non-null   object \n",
            " 10  Vehicle Size       11914 non-null  object \n",
            " 11  Vehicle Style      11914 non-null  object \n",
            " 12  highway MPG        11914 non-null  int64  \n",
            " 13  city mpg           11914 non-null  int64  \n",
            " 14  Popularity         11914 non-null  int64  \n",
            " 15  MSRP               11914 non-null  int64  \n",
            "dtypes: float64(3), int64(5), object(8)\n",
            "memory usage: 1.5+ MB\n",
            "None\n",
            "               Year    Engine HP  Engine Cylinders  Number of Doors  \\\n",
            "count  11914.000000  11845.00000      11884.000000     11908.000000   \n",
            "mean    2010.384338    249.38607          5.628829         3.436093   \n",
            "std        7.579740    109.19187          1.780559         0.881315   \n",
            "min     1990.000000     55.00000          0.000000         2.000000   \n",
            "25%     2007.000000    170.00000          4.000000         2.000000   \n",
            "50%     2015.000000    227.00000          6.000000         4.000000   \n",
            "75%     2016.000000    300.00000          6.000000         4.000000   \n",
            "max     2017.000000   1001.00000         16.000000         4.000000   \n",
            "\n",
            "        highway MPG      city mpg    Popularity          MSRP  \n",
            "count  11914.000000  11914.000000  11914.000000  1.191400e+04  \n",
            "mean      26.637485     19.733255   1554.911197  4.059474e+04  \n",
            "std        8.863001      8.987798   1441.855347  6.010910e+04  \n",
            "min       12.000000      7.000000      2.000000  2.000000e+03  \n",
            "25%       22.000000     16.000000    549.000000  2.100000e+04  \n",
            "50%       26.000000     18.000000   1385.000000  2.999500e+04  \n",
            "75%       30.000000     22.000000   2009.000000  4.223125e+04  \n",
            "max      354.000000    137.000000   5657.000000  2.065902e+06  \n"
          ]
        }
      ]
    },
    {
      "cell_type": "markdown",
      "source": [
        "**A) EXPLORATORY DATA ANALYSIS**"
      ],
      "metadata": {
        "id": "wXQddzjl6aX4"
      }
    },
    {
      "cell_type": "code",
      "source": [
        "# Check number of rows and columns\n",
        "print(df.shape)"
      ],
      "metadata": {
        "colab": {
          "base_uri": "https://localhost:8080/"
        },
        "id": "hUsP7cXn6Trw",
        "outputId": "6649c865-4bf3-4be4-cc47-00ffe1bac1b1"
      },
      "execution_count": 38,
      "outputs": [
        {
          "output_type": "stream",
          "name": "stdout",
          "text": [
            "(11914, 16)\n"
          ]
        }
      ]
    },
    {
      "cell_type": "markdown",
      "source": [
        "In this dataset we have 11914 rows and 16 columns"
      ],
      "metadata": {
        "id": "KRt-d4n26oLV"
      }
    },
    {
      "cell_type": "code",
      "source": [
        "df.columns"
      ],
      "metadata": {
        "colab": {
          "base_uri": "https://localhost:8080/"
        },
        "id": "Q-y_1RyY6ixj",
        "outputId": "33632da9-8acd-4442-b0cd-ee728aa6ef80"
      },
      "execution_count": 39,
      "outputs": [
        {
          "output_type": "execute_result",
          "data": {
            "text/plain": [
              "Index(['Make', 'Model', 'Year', 'Engine Fuel Type', 'Engine HP',\n",
              "       'Engine Cylinders', 'Transmission Type', 'Driven_Wheels',\n",
              "       'Number of Doors', 'Market Category', 'Vehicle Size', 'Vehicle Style',\n",
              "       'highway MPG', 'city mpg', 'Popularity', 'MSRP'],\n",
              "      dtype='object')"
            ]
          },
          "metadata": {},
          "execution_count": 39
        }
      ]
    },
    {
      "cell_type": "code",
      "source": [
        "df.info()"
      ],
      "metadata": {
        "colab": {
          "base_uri": "https://localhost:8080/"
        },
        "id": "r_BCErSq6v8c",
        "outputId": "6adce284-7f54-4013-be43-6d42aca2076c"
      },
      "execution_count": 40,
      "outputs": [
        {
          "output_type": "stream",
          "name": "stdout",
          "text": [
            "<class 'pandas.core.frame.DataFrame'>\n",
            "RangeIndex: 11914 entries, 0 to 11913\n",
            "Data columns (total 16 columns):\n",
            " #   Column             Non-Null Count  Dtype  \n",
            "---  ------             --------------  -----  \n",
            " 0   Make               11914 non-null  object \n",
            " 1   Model              11914 non-null  object \n",
            " 2   Year               11914 non-null  int64  \n",
            " 3   Engine Fuel Type   11911 non-null  object \n",
            " 4   Engine HP          11845 non-null  float64\n",
            " 5   Engine Cylinders   11884 non-null  float64\n",
            " 6   Transmission Type  11914 non-null  object \n",
            " 7   Driven_Wheels      11914 non-null  object \n",
            " 8   Number of Doors    11908 non-null  float64\n",
            " 9   Market Category    8172 non-null   object \n",
            " 10  Vehicle Size       11914 non-null  object \n",
            " 11  Vehicle Style      11914 non-null  object \n",
            " 12  highway MPG        11914 non-null  int64  \n",
            " 13  city mpg           11914 non-null  int64  \n",
            " 14  Popularity         11914 non-null  int64  \n",
            " 15  MSRP               11914 non-null  int64  \n",
            "dtypes: float64(3), int64(5), object(8)\n",
            "memory usage: 1.5+ MB\n"
          ]
        }
      ]
    },
    {
      "cell_type": "markdown",
      "source": [
        "From the above summary of a DataFrame's basic information, we could see that majority of the datatypes are of 'object' type. There are 5 integers [Year,Highway MPG,City MPG,MSRP and Popularity] and 3 Float types columns"
      ],
      "metadata": {
        "id": "CpRZwPuD650_"
      }
    },
    {
      "cell_type": "code",
      "source": [
        "#summary statistics\n",
        "print(df.describe())\n"
      ],
      "metadata": {
        "colab": {
          "base_uri": "https://localhost:8080/"
        },
        "id": "Y-D5wJGR6z15",
        "outputId": "da3cc214-7ef0-46c2-ae04-92ee02a1e478"
      },
      "execution_count": 41,
      "outputs": [
        {
          "output_type": "stream",
          "name": "stdout",
          "text": [
            "               Year    Engine HP  Engine Cylinders  Number of Doors  \\\n",
            "count  11914.000000  11845.00000      11884.000000     11908.000000   \n",
            "mean    2010.384338    249.38607          5.628829         3.436093   \n",
            "std        7.579740    109.19187          1.780559         0.881315   \n",
            "min     1990.000000     55.00000          0.000000         2.000000   \n",
            "25%     2007.000000    170.00000          4.000000         2.000000   \n",
            "50%     2015.000000    227.00000          6.000000         4.000000   \n",
            "75%     2016.000000    300.00000          6.000000         4.000000   \n",
            "max     2017.000000   1001.00000         16.000000         4.000000   \n",
            "\n",
            "        highway MPG      city mpg    Popularity          MSRP  \n",
            "count  11914.000000  11914.000000  11914.000000  1.191400e+04  \n",
            "mean      26.637485     19.733255   1554.911197  4.059474e+04  \n",
            "std        8.863001      8.987798   1441.855347  6.010910e+04  \n",
            "min       12.000000      7.000000      2.000000  2.000000e+03  \n",
            "25%       22.000000     16.000000    549.000000  2.100000e+04  \n",
            "50%       26.000000     18.000000   1385.000000  2.999500e+04  \n",
            "75%       30.000000     22.000000   2009.000000  4.223125e+04  \n",
            "max      354.000000    137.000000   5657.000000  2.065902e+06  \n"
          ]
        }
      ]
    },
    {
      "cell_type": "code",
      "source": [
        "#checking null values in each column\n",
        "df.isnull().sum()"
      ],
      "metadata": {
        "colab": {
          "base_uri": "https://localhost:8080/"
        },
        "id": "8NGSzkCj7pY1",
        "outputId": "985b9a70-5ffa-4ca3-f9fd-0e7bb44a9b5c"
      },
      "execution_count": 42,
      "outputs": [
        {
          "output_type": "execute_result",
          "data": {
            "text/plain": [
              "Make                    0\n",
              "Model                   0\n",
              "Year                    0\n",
              "Engine Fuel Type        3\n",
              "Engine HP              69\n",
              "Engine Cylinders       30\n",
              "Transmission Type       0\n",
              "Driven_Wheels           0\n",
              "Number of Doors         6\n",
              "Market Category      3742\n",
              "Vehicle Size            0\n",
              "Vehicle Style           0\n",
              "highway MPG             0\n",
              "city mpg                0\n",
              "Popularity              0\n",
              "MSRP                    0\n",
              "dtype: int64"
            ]
          },
          "metadata": {},
          "execution_count": 42
        }
      ]
    },
    {
      "cell_type": "markdown",
      "source": [
        " Only 11 columns out of 16 has zero null values."
      ],
      "metadata": {
        "id": "ohOzvchV7vji"
      }
    },
    {
      "cell_type": "markdown",
      "source": [
        "**B) DATA PRE-PROCESSING**"
      ],
      "metadata": {
        "id": "cvtmkOZ0-XFS"
      }
    },
    {
      "cell_type": "markdown",
      "source": [
        "Missing Value Handling , Data Encoding , Feature Scaling , Handling Outliers , Feature Engineering"
      ],
      "metadata": {
        "id": "T5woJYr4ALO7"
      }
    },
    {
      "cell_type": "markdown",
      "source": [
        "1. MARKET CATEGORY"
      ],
      "metadata": {
        "id": "Y2BCD1lcEGYg"
      }
    },
    {
      "cell_type": "markdown",
      "source": [
        "MISSING VALUE HANDLING"
      ],
      "metadata": {
        "id": "qDYKFIVCEMHG"
      }
    },
    {
      "cell_type": "code",
      "source": [
        "mode = df['Market Category'].mode()[0]\n",
        "df['Market Category'].fillna(mode, inplace=True)"
      ],
      "metadata": {
        "id": "Va-b_l_U7602"
      },
      "execution_count": 43,
      "outputs": []
    },
    {
      "cell_type": "code",
      "source": [
        "#missing values\n",
        "df['Market Category'].isna().sum()"
      ],
      "metadata": {
        "colab": {
          "base_uri": "https://localhost:8080/"
        },
        "id": "aAUYxAHKAcZu",
        "outputId": "74752beb-1e8a-4ff0-b7b6-1682c57bdc69"
      },
      "execution_count": 44,
      "outputs": [
        {
          "output_type": "execute_result",
          "data": {
            "text/plain": [
              "0"
            ]
          },
          "metadata": {},
          "execution_count": 44
        }
      ]
    },
    {
      "cell_type": "markdown",
      "source": [
        "For handling missing values in categorical variables, the mode is the most appropriate measure of central tendency to use. This is because categorical variables do not have a numeric scale, so we cannot use the mean or median as we do with continuous variables"
      ],
      "metadata": {
        "id": "6ZFUsuc-AoE_"
      }
    },
    {
      "cell_type": "markdown",
      "source": [
        "DATA ENCODING"
      ],
      "metadata": {
        "id": "8r7CEJPeEPP2"
      }
    },
    {
      "cell_type": "code",
      "source": [
        "# Using pandas.get_dummies()\n",
        "encoded_df = pd.get_dummies(df, columns=['Market Category'])\n",
        "\n",
        "# Using scikit-learn's OneHotEncoder\n",
        "from sklearn.preprocessing import OneHotEncoder\n",
        "encoder = OneHotEncoder(sparse=False)\n",
        "encoded_data = encoder.fit_transform(df[['Market Category']])\n"
      ],
      "metadata": {
        "id": "JPP0WiSCAqVt"
      },
      "execution_count": 45,
      "outputs": []
    },
    {
      "cell_type": "markdown",
      "source": [
        "The \"Market Category\" column has been encoded using one-hot encoding,represents each unique category in the column as a binary feature column.It allows to represent categorical information in a format that is suitable for algorithms."
      ],
      "metadata": {
        "id": "_l0VHE51DT6y"
      }
    },
    {
      "cell_type": "markdown",
      "source": [
        "OUTLIER DETECTION"
      ],
      "metadata": {
        "id": "2FwBGuNeESnN"
      }
    },
    {
      "cell_type": "markdown",
      "source": [
        "Outlier detection is typically applied to numerical data to identify extreme values that are significantly different from other values in the data. For categorical data, such as the \"Market Category\" column in this case, outlier detection is not applicable as there are no numerical values to compare.\n",
        "\n"
      ],
      "metadata": {
        "id": "7_XWornpEU-n"
      }
    },
    {
      "cell_type": "markdown",
      "source": [
        "2. ENGINE FUEL TYPE"
      ],
      "metadata": {
        "id": "e4I-vvyJFJbs"
      }
    },
    {
      "cell_type": "markdown",
      "source": [
        "MISSING VALUE HANDLING"
      ],
      "metadata": {
        "id": "miwO4Ov3FPn-"
      }
    },
    {
      "cell_type": "code",
      "source": [
        "mode = df['Engine Fuel Type'].mode()[0]\n",
        "df['Engine Fuel Type'].fillna(mode, inplace=True)"
      ],
      "metadata": {
        "id": "AxAvuBIyD47k"
      },
      "execution_count": 46,
      "outputs": []
    },
    {
      "cell_type": "code",
      "source": [
        "#missing values\n",
        "df['Engine Fuel Type'].isna().sum()"
      ],
      "metadata": {
        "colab": {
          "base_uri": "https://localhost:8080/"
        },
        "id": "6qRcAldyFkCu",
        "outputId": "584bfb79-bf86-4cb6-ce44-1b62015ea17d"
      },
      "execution_count": 47,
      "outputs": [
        {
          "output_type": "execute_result",
          "data": {
            "text/plain": [
              "0"
            ]
          },
          "metadata": {},
          "execution_count": 47
        }
      ]
    },
    {
      "cell_type": "markdown",
      "source": [
        "For handling missing values in categorical variables, the mode is the most appropriate measure of central tendency to use. This is because categorical variables do not have a numeric scale."
      ],
      "metadata": {
        "id": "swOc-Ar6Fu6q"
      }
    },
    {
      "cell_type": "markdown",
      "source": [
        "DATA ENCODING"
      ],
      "metadata": {
        "id": "OXha-h-SF31C"
      }
    },
    {
      "cell_type": "code",
      "source": [
        "from sklearn.preprocessing import LabelEncoder\n",
        "\n",
        "label_encoder = LabelEncoder()\n",
        "df['Engine Fuel Type'] = label_encoder.fit_transform(df['Engine Fuel Type'])\n"
      ],
      "metadata": {
        "id": "qU4q2gQhFzgw"
      },
      "execution_count": 48,
      "outputs": []
    },
    {
      "cell_type": "markdown",
      "source": [
        "Label encoding was done by the column \"Engine Fuel Type\" which assigns a unique numeric label to each category in the variable."
      ],
      "metadata": {
        "id": "9Y3QpN3aHL7H"
      }
    },
    {
      "cell_type": "markdown",
      "source": [
        "OUTLIER DETECTION"
      ],
      "metadata": {
        "id": "HDmkrn0GHj8j"
      }
    },
    {
      "cell_type": "markdown",
      "source": [
        "Outlier detection is typically not applicable or meaningful for categorical variables. "
      ],
      "metadata": {
        "id": "vDCBJ5TXHk7n"
      }
    },
    {
      "cell_type": "markdown",
      "source": [
        "3. ENGINE HP"
      ],
      "metadata": {
        "id": "OaCKNh1NH_fF"
      }
    },
    {
      "cell_type": "markdown",
      "source": [
        "MISSING VALUE HANDLING"
      ],
      "metadata": {
        "id": "JfFd8LG6ICvK"
      }
    },
    {
      "cell_type": "code",
      "source": [
        "df['Engine HP'].fillna(0,inplace=True)"
      ],
      "metadata": {
        "id": "dgQxSMzRHe44"
      },
      "execution_count": 49,
      "outputs": []
    },
    {
      "cell_type": "code",
      "source": [
        "df['Engine HP'].isna().sum()"
      ],
      "metadata": {
        "colab": {
          "base_uri": "https://localhost:8080/"
        },
        "id": "80afVzzhIfCt",
        "outputId": "dadf2dbe-6e3c-4183-e807-fbe222c3380c"
      },
      "execution_count": 50,
      "outputs": [
        {
          "output_type": "execute_result",
          "data": {
            "text/plain": [
              "0"
            ]
          },
          "metadata": {},
          "execution_count": 50
        }
      ]
    },
    {
      "cell_type": "markdown",
      "source": [
        "We filled null value of this particular column 'Engine HP' with '0' for dealing null values."
      ],
      "metadata": {
        "id": "k8W3ivxQIqC_"
      }
    },
    {
      "cell_type": "markdown",
      "source": [
        "DATA ENCODING"
      ],
      "metadata": {
        "id": "nDK_ZkbZIvCi"
      }
    },
    {
      "cell_type": "markdown",
      "source": [
        "Data encoding is not mandatory for numerical variables because numerical variables are already in a suitable format for many machine learning algorithms."
      ],
      "metadata": {
        "id": "roefuoEJJUa6"
      }
    },
    {
      "cell_type": "markdown",
      "source": [
        "OUTLIER DETECTION"
      ],
      "metadata": {
        "id": "NYBvtSTCJXdL"
      }
    },
    {
      "cell_type": "code",
      "source": [
        "#outlier - zscore\n",
        "z_scores = stats.zscore(df['Engine HP'])\n",
        "threshold = 3\n",
        "outlier_indices = np.where(z_scores > threshold)[0]\n",
        "outlier_indices"
      ],
      "metadata": {
        "colab": {
          "base_uri": "https://localhost:8080/"
        },
        "id": "NyfsZUr4Ikwx",
        "outputId": "b2676664-060d-4b36-a8b2-251cdb2d1910"
      },
      "execution_count": 51,
      "outputs": [
        {
          "output_type": "execute_result",
          "data": {
            "text/plain": [
              "array([  469,   473,   612,   613,   615,   617,   618,   619,   620,\n",
              "         621,   622,   696,   698,   700,   701,   703,   704,   966,\n",
              "         974,  1387,  1388,  1397,  1620,  1621,  1622,  1623,  1624,\n",
              "        1625,  1626,  1627,  1628,  1629,  1630,  1631,  2172,  2182,\n",
              "        2200,  2202,  2339,  2340,  2452,  2463,  2470,  2481,  2489,\n",
              "        2500,  2675,  2679,  2683,  2849,  2850,  2851,  2855,  2856,\n",
              "        2857,  2862,  2863,  2873,  2874,  2875,  2877,  2878,  2879,\n",
              "        2886,  2887,  2888,  2889,  2890,  2970,  2974,  2980,  2981,\n",
              "        2982,  2983,  2986,  2987,  2990,  2991,  2997,  2999,  3004,\n",
              "        3008,  3014,  3021,  3022,  3023,  3219,  3220,  4024,  4644,\n",
              "        4645,  4646,  4666,  4667,  4668,  4771,  4772,  4775,  5073,\n",
              "        5597,  5599,  5774,  5775,  5776,  5777,  6350,  6351,  6998,\n",
              "        6999,  7055,  7056,  7057,  7058,  7059,  7060,  7061,  7062,\n",
              "        7063,  7992,  8486,  8822,  8823,  8826,  8833,  8839,  8840,\n",
              "        8946,  8947,  9175,  9176,  9177,  9178,  9661,  9665,  9669,\n",
              "        9682,  9683,  9684,  9685,  9686,  9687,  9688,  9689,  9690,\n",
              "        9691,  9956,  9957,  9958,  9959, 10095, 11362, 11363, 11364,\n",
              "       11380, 11381, 11382, 11383, 11384, 11385, 11386, 11387, 11388,\n",
              "       11389, 11390, 11391, 11392, 11393, 11448, 11449, 11450])"
            ]
          },
          "metadata": {},
          "execution_count": 51
        }
      ]
    },
    {
      "cell_type": "markdown",
      "source": [
        "4. ENGINE CYLINDERS"
      ],
      "metadata": {
        "id": "kbyuKNymJ8qA"
      }
    },
    {
      "cell_type": "markdown",
      "source": [
        "MISSING VALUE HANDLING"
      ],
      "metadata": {
        "id": "2fFvxuhWKSie"
      }
    },
    {
      "cell_type": "code",
      "source": [
        "df['Engine Cylinders'].fillna(0,inplace=True)"
      ],
      "metadata": {
        "id": "eyX3xetgKPgn"
      },
      "execution_count": 52,
      "outputs": []
    },
    {
      "cell_type": "code",
      "source": [
        "df['Engine Cylinders'].isna().sum()"
      ],
      "metadata": {
        "colab": {
          "base_uri": "https://localhost:8080/"
        },
        "id": "3-OhBEXsMQDx",
        "outputId": "b5cff475-ef6b-4572-c337-4e28ccc124de"
      },
      "execution_count": 53,
      "outputs": [
        {
          "output_type": "execute_result",
          "data": {
            "text/plain": [
              "0"
            ]
          },
          "metadata": {},
          "execution_count": 53
        }
      ]
    },
    {
      "cell_type": "markdown",
      "source": [
        "We filled null value of this particular column 'Engine Cylinders' with '0' for dealing null values."
      ],
      "metadata": {
        "id": "NfUCCxgoKix7"
      }
    },
    {
      "cell_type": "markdown",
      "source": [
        "DATA ENCODING"
      ],
      "metadata": {
        "id": "TIwh9cUEKpOf"
      }
    },
    {
      "cell_type": "markdown",
      "source": [
        "It is not necessary to do data encoding for numerical variables column."
      ],
      "metadata": {
        "id": "Dd9-1kosKsY9"
      }
    },
    {
      "cell_type": "markdown",
      "source": [
        "OUTLIER DETECTION"
      ],
      "metadata": {
        "id": "MZKdJca7K1e4"
      }
    },
    {
      "cell_type": "code",
      "source": [
        "Q1 = df['Engine Cylinders'].quantile(0.25)\n",
        "Q3 = df['Engine Cylinders'].quantile(0.75)\n",
        "IQR = Q3 - Q1\n",
        "lower_bound = Q1 - 1.5 * IQR\n",
        "upper_bound = Q3 + 1.5 * IQR\n",
        "\n",
        "potential_outliers = df[(df['Engine Cylinders'] < lower_bound) | (df['Engine Cylinders'] > upper_bound)]\n",
        "\n",
        "# Find the lower and upper bounds\n",
        "lower_bound = Q1 - 1.5*IQR\n",
        "upper_bound = Q3 + 1.5*IQR\n",
        "print(\"Upper bound:\", upper_bound)\n",
        "print(\"Lower bound:\", lower_bound)\n"
      ],
      "metadata": {
        "colab": {
          "base_uri": "https://localhost:8080/"
        },
        "id": "NQDFpSxeK3jc",
        "outputId": "1705ecf3-f260-4b53-aa48-015926966598"
      },
      "execution_count": 54,
      "outputs": [
        {
          "output_type": "stream",
          "name": "stdout",
          "text": [
            "Upper bound: 9.0\n",
            "Lower bound: 1.0\n"
          ]
        }
      ]
    },
    {
      "cell_type": "markdown",
      "source": [
        "5. NUMBER OF DOORS"
      ],
      "metadata": {
        "id": "scXdAwGbLm2v"
      }
    },
    {
      "cell_type": "markdown",
      "source": [
        "MISSING VALUE HANDLING"
      ],
      "metadata": {
        "id": "l8-QaPFiLpbB"
      }
    },
    {
      "cell_type": "code",
      "source": [
        "df['Number of Doors'].fillna(0,inplace=True)"
      ],
      "metadata": {
        "id": "BSVSwlI2L6Uf"
      },
      "execution_count": 55,
      "outputs": []
    },
    {
      "cell_type": "code",
      "source": [
        "df['Number of Doors'].isna().sum()"
      ],
      "metadata": {
        "colab": {
          "base_uri": "https://localhost:8080/"
        },
        "id": "I5Erl_quMHPJ",
        "outputId": "1660b06a-b0b0-4fca-e8ee-a3cc495c69a2"
      },
      "execution_count": 56,
      "outputs": [
        {
          "output_type": "execute_result",
          "data": {
            "text/plain": [
              "0"
            ]
          },
          "metadata": {},
          "execution_count": 56
        }
      ]
    },
    {
      "cell_type": "markdown",
      "source": [
        "We filled null value of this particular column 'No. of Doors' with '0' for dealing null values."
      ],
      "metadata": {
        "id": "JuJCCQqvMbvW"
      }
    },
    {
      "cell_type": "markdown",
      "source": [
        "DATA ENCODING"
      ],
      "metadata": {
        "id": "lA2SFLCXMgOc"
      }
    },
    {
      "cell_type": "code",
      "source": [
        "df['Number of Doors'] = df['Number of Doors'].map({'2 Doors': 2, '3 Doors': 3, '4 Doors': 4, '5 Doors': 5})\n"
      ],
      "metadata": {
        "id": "AwRKSXDkNKzt"
      },
      "execution_count": 57,
      "outputs": []
    },
    {
      "cell_type": "markdown",
      "source": [
        "OUTLIER DETECTION"
      ],
      "metadata": {
        "id": "6o05DZeqMoDI"
      }
    },
    {
      "cell_type": "markdown",
      "source": [
        "The \"Number of Doors\" column in the cars dataset represents a categorical variable that indicates the number of doors for each car. Since this column contains categorical data, traditional outlier detection methods are not applicable."
      ],
      "metadata": {
        "id": "O-j9qPUbM8y4"
      }
    },
    {
      "cell_type": "markdown",
      "source": [
        "6. MAKE"
      ],
      "metadata": {
        "id": "4GxbyzHiNl-E"
      }
    },
    {
      "cell_type": "markdown",
      "source": [
        "DATA ENCODING"
      ],
      "metadata": {
        "id": "a4gAjjzANuFW"
      }
    },
    {
      "cell_type": "code",
      "source": [
        "# Create a LabelEncoder object\n",
        "le = LabelEncoder()\n",
        "le"
      ],
      "metadata": {
        "colab": {
          "base_uri": "https://localhost:8080/",
          "height": 75
        },
        "id": "uF2Q0IqDMa7C",
        "outputId": "ac210f22-f575-4265-9e2d-1a4f6307e430"
      },
      "execution_count": 58,
      "outputs": [
        {
          "output_type": "execute_result",
          "data": {
            "text/plain": [
              "LabelEncoder()"
            ],
            "text/html": [
              "<style>#sk-container-id-2 {color: black;background-color: white;}#sk-container-id-2 pre{padding: 0;}#sk-container-id-2 div.sk-toggleable {background-color: white;}#sk-container-id-2 label.sk-toggleable__label {cursor: pointer;display: block;width: 100%;margin-bottom: 0;padding: 0.3em;box-sizing: border-box;text-align: center;}#sk-container-id-2 label.sk-toggleable__label-arrow:before {content: \"▸\";float: left;margin-right: 0.25em;color: #696969;}#sk-container-id-2 label.sk-toggleable__label-arrow:hover:before {color: black;}#sk-container-id-2 div.sk-estimator:hover label.sk-toggleable__label-arrow:before {color: black;}#sk-container-id-2 div.sk-toggleable__content {max-height: 0;max-width: 0;overflow: hidden;text-align: left;background-color: #f0f8ff;}#sk-container-id-2 div.sk-toggleable__content pre {margin: 0.2em;color: black;border-radius: 0.25em;background-color: #f0f8ff;}#sk-container-id-2 input.sk-toggleable__control:checked~div.sk-toggleable__content {max-height: 200px;max-width: 100%;overflow: auto;}#sk-container-id-2 input.sk-toggleable__control:checked~label.sk-toggleable__label-arrow:before {content: \"▾\";}#sk-container-id-2 div.sk-estimator input.sk-toggleable__control:checked~label.sk-toggleable__label {background-color: #d4ebff;}#sk-container-id-2 div.sk-label input.sk-toggleable__control:checked~label.sk-toggleable__label {background-color: #d4ebff;}#sk-container-id-2 input.sk-hidden--visually {border: 0;clip: rect(1px 1px 1px 1px);clip: rect(1px, 1px, 1px, 1px);height: 1px;margin: -1px;overflow: hidden;padding: 0;position: absolute;width: 1px;}#sk-container-id-2 div.sk-estimator {font-family: monospace;background-color: #f0f8ff;border: 1px dotted black;border-radius: 0.25em;box-sizing: border-box;margin-bottom: 0.5em;}#sk-container-id-2 div.sk-estimator:hover {background-color: #d4ebff;}#sk-container-id-2 div.sk-parallel-item::after {content: \"\";width: 100%;border-bottom: 1px solid gray;flex-grow: 1;}#sk-container-id-2 div.sk-label:hover label.sk-toggleable__label {background-color: #d4ebff;}#sk-container-id-2 div.sk-serial::before {content: \"\";position: absolute;border-left: 1px solid gray;box-sizing: border-box;top: 0;bottom: 0;left: 50%;z-index: 0;}#sk-container-id-2 div.sk-serial {display: flex;flex-direction: column;align-items: center;background-color: white;padding-right: 0.2em;padding-left: 0.2em;position: relative;}#sk-container-id-2 div.sk-item {position: relative;z-index: 1;}#sk-container-id-2 div.sk-parallel {display: flex;align-items: stretch;justify-content: center;background-color: white;position: relative;}#sk-container-id-2 div.sk-item::before, #sk-container-id-2 div.sk-parallel-item::before {content: \"\";position: absolute;border-left: 1px solid gray;box-sizing: border-box;top: 0;bottom: 0;left: 50%;z-index: -1;}#sk-container-id-2 div.sk-parallel-item {display: flex;flex-direction: column;z-index: 1;position: relative;background-color: white;}#sk-container-id-2 div.sk-parallel-item:first-child::after {align-self: flex-end;width: 50%;}#sk-container-id-2 div.sk-parallel-item:last-child::after {align-self: flex-start;width: 50%;}#sk-container-id-2 div.sk-parallel-item:only-child::after {width: 0;}#sk-container-id-2 div.sk-dashed-wrapped {border: 1px dashed gray;margin: 0 0.4em 0.5em 0.4em;box-sizing: border-box;padding-bottom: 0.4em;background-color: white;}#sk-container-id-2 div.sk-label label {font-family: monospace;font-weight: bold;display: inline-block;line-height: 1.2em;}#sk-container-id-2 div.sk-label-container {text-align: center;}#sk-container-id-2 div.sk-container {/* jupyter's `normalize.less` sets `[hidden] { display: none; }` but bootstrap.min.css set `[hidden] { display: none !important; }` so we also need the `!important` here to be able to override the default hidden behavior on the sphinx rendered scikit-learn.org. See: https://github.com/scikit-learn/scikit-learn/issues/21755 */display: inline-block !important;position: relative;}#sk-container-id-2 div.sk-text-repr-fallback {display: none;}</style><div id=\"sk-container-id-2\" class=\"sk-top-container\"><div class=\"sk-text-repr-fallback\"><pre>LabelEncoder()</pre><b>In a Jupyter environment, please rerun this cell to show the HTML representation or trust the notebook. <br />On GitHub, the HTML representation is unable to render, please try loading this page with nbviewer.org.</b></div><div class=\"sk-container\" hidden><div class=\"sk-item\"><div class=\"sk-estimator sk-toggleable\"><input class=\"sk-toggleable__control sk-hidden--visually\" id=\"sk-estimator-id-2\" type=\"checkbox\" checked><label for=\"sk-estimator-id-2\" class=\"sk-toggleable__label sk-toggleable__label-arrow\">LabelEncoder</label><div class=\"sk-toggleable__content\"><pre>LabelEncoder()</pre></div></div></div></div></div>"
            ]
          },
          "metadata": {},
          "execution_count": 58
        }
      ]
    },
    {
      "cell_type": "code",
      "source": [
        "from sklearn.preprocessing import LabelEncoder\n",
        "\n",
        "label_encoder = LabelEncoder()\n",
        "df['Make'] = label_encoder.fit_transform(df['Make'])\n"
      ],
      "metadata": {
        "id": "G5YBZJRwQFM3"
      },
      "execution_count": 59,
      "outputs": []
    },
    {
      "cell_type": "markdown",
      "source": [
        "The LabelEncoder object is used to encode the \"Make\" column into numerical.The encoded data is then stored in a new column called \"Make Code\"."
      ],
      "metadata": {
        "id": "H2Rnv0oxOb7v"
      }
    },
    {
      "cell_type": "markdown",
      "source": [
        "7. MODEL"
      ],
      "metadata": {
        "id": "7slU6qswOjz5"
      }
    },
    {
      "cell_type": "code",
      "source": [
        "#label encoding - \n",
        "\n",
        "leD = LabelEncoder()\n",
        "df['Model Encoded'] = leD.fit_transform(df['Model'])"
      ],
      "metadata": {
        "id": "8AvcTKOLOZ0I"
      },
      "execution_count": 60,
      "outputs": []
    },
    {
      "cell_type": "markdown",
      "source": [
        "8. YEAR"
      ],
      "metadata": {
        "id": "9Lkq81L3QQI2"
      }
    },
    {
      "cell_type": "markdown",
      "source": [
        "MISSING VALUE HANDLING"
      ],
      "metadata": {
        "id": "bpzQCSy5QaR6"
      }
    },
    {
      "cell_type": "code",
      "source": [
        "#missing values\n",
        "df['Year'].isna().sum()"
      ],
      "metadata": {
        "colab": {
          "base_uri": "https://localhost:8080/"
        },
        "id": "CY4RA_VxQcu4",
        "outputId": "adbf6465-52e0-4bd2-972c-e82a1b573fc1"
      },
      "execution_count": 61,
      "outputs": [
        {
          "output_type": "execute_result",
          "data": {
            "text/plain": [
              "0"
            ]
          },
          "metadata": {},
          "execution_count": 61
        }
      ]
    },
    {
      "cell_type": "markdown",
      "source": [
        "There is no missing values."
      ],
      "metadata": {
        "id": "JyK5kpUlQmN5"
      }
    },
    {
      "cell_type": "markdown",
      "source": [
        "Since encoding might give large number of additional columns and we ended to keep this feature as numerical itself, encoding is not ideal."
      ],
      "metadata": {
        "id": "37wnaJvxQozI"
      }
    },
    {
      "cell_type": "markdown",
      "source": [
        "And the goal is to predict the price of a car\n",
        "based on various features and attributes using the year column, then it is not necessary to remove outliers from the year column."
      ],
      "metadata": {
        "id": "w1OpNtJLQw7R"
      }
    },
    {
      "cell_type": "markdown",
      "source": [
        "9. TRANSMISSION TYPE"
      ],
      "metadata": {
        "id": "rPl4pmSZRElH"
      }
    },
    {
      "cell_type": "code",
      "source": [
        "# Encoding\n",
        "one_hot_encoded = pd.get_dummies(df['Transmission Type'], prefix='Transmission')\n",
        "\n",
        "# Using scikit-learn\n",
        "from sklearn.preprocessing import OneHotEncoder\n",
        "encoder = OneHotEncoder()\n",
        "one_hot_encoded = encoder.fit_transform(df[['Transmission Type']])\n"
      ],
      "metadata": {
        "id": "dF5cKhqoRQWb"
      },
      "execution_count": 62,
      "outputs": []
    },
    {
      "cell_type": "markdown",
      "source": [
        "10. DRIVEN WHEELS"
      ],
      "metadata": {
        "id": "bEuLaY3YR00c"
      }
    },
    {
      "cell_type": "code",
      "source": [
        "#Encoding using One Hot Encoder\n",
        "df_encoded = pd.get_dummies(df, columns=['Driven_Wheels'], prefix='Driven')\n"
      ],
      "metadata": {
        "id": "M077pUU-PBVb"
      },
      "execution_count": 63,
      "outputs": []
    },
    {
      "cell_type": "markdown",
      "source": [
        "11. VEHICLE SIZE"
      ],
      "metadata": {
        "id": "jhOhMKd4SUQn"
      }
    },
    {
      "cell_type": "code",
      "source": [
        "#ENCODING BY ONE HOT ENCODING\n",
        "encoded_df = pd.get_dummies(df, columns=['Vehicle Size'], prefix=['Size'])\n"
      ],
      "metadata": {
        "id": "hLl7R6YGSSa3"
      },
      "execution_count": 65,
      "outputs": []
    },
    {
      "cell_type": "markdown",
      "source": [
        "This will create new binary columns for each category in the \"vehicle size\" column, with a prefix of \"size\" followed by the category name. The presence of a category in a row will be represented by a value of 1, and its absence will be represented by a value of 0."
      ],
      "metadata": {
        "id": "KnwXn6ZBS_ni"
      }
    },
    {
      "cell_type": "markdown",
      "source": [
        "12. VEHICLE STYLE"
      ],
      "metadata": {
        "id": "9RzadvCuTIsZ"
      }
    },
    {
      "cell_type": "code",
      "source": [
        "from sklearn.preprocessing import LabelEncoder\n",
        "\n",
        "label_encoder = LabelEncoder()\n",
        "df['Vehicle Style'] = label_encoder.fit_transform(df['Vehicle Style'])\n"
      ],
      "metadata": {
        "id": "B1-jNjwPTLOH"
      },
      "execution_count": 66,
      "outputs": []
    },
    {
      "cell_type": "markdown",
      "source": [
        "13. HIGHWAY MPG"
      ],
      "metadata": {
        "id": "a-xkIO_XTcRR"
      }
    },
    {
      "cell_type": "code",
      "source": [
        "#outlier - zscore\n",
        "z_scores = stats.zscore(df['highway MPG'])\n",
        "threshold = 3\n",
        "outlier_indices = np.where(z_scores > threshold)[0]\n",
        "outlier_indices"
      ],
      "metadata": {
        "colab": {
          "base_uri": "https://localhost:8080/"
        },
        "id": "QiWNUBZxS44p",
        "outputId": "3fa3d77b-fae3-4198-b6e7-10756d943337"
      },
      "execution_count": 68,
      "outputs": [
        {
          "output_type": "execute_result",
          "data": {
            "text/plain": [
              "array([ 539,  540,  541, 1119, 1680, 1681, 1682, 1983, 1984, 3716, 3717,\n",
              "       3718, 3719, 4705, 4706, 4785, 4789, 4798, 5778, 5779, 5780, 5790,\n",
              "       5791, 5792, 5793, 6385, 6386, 6387, 6388, 6389, 6390, 6391, 6392,\n",
              "       6393, 6394, 6921, 6922, 6923, 6924, 6925, 6926, 6927, 6928, 6929,\n",
              "       6930, 6931, 6932, 6933, 6934, 6935, 6936, 6937, 6938, 8373, 8374,\n",
              "       8375, 9850, 9851, 9852, 9853, 9854, 9867, 9868, 9869, 9870, 9871,\n",
              "       9872])"
            ]
          },
          "metadata": {},
          "execution_count": 68
        }
      ]
    },
    {
      "cell_type": "markdown",
      "source": [
        "14. CITY MPG"
      ],
      "metadata": {
        "id": "3emI2VecUO1I"
      }
    },
    {
      "cell_type": "code",
      "source": [
        "#outlier - zscore\n",
        "z_scores = stats.zscore(df['city mpg'])\n",
        "threshold = 3\n",
        "outlier_indices = np.where(z_scores > threshold)[0]\n",
        "outlier_indices"
      ],
      "metadata": {
        "colab": {
          "base_uri": "https://localhost:8080/"
        },
        "id": "PUjFHP4FUL50",
        "outputId": "f177ada9-0801-41b8-da64-cad58462fcc0"
      },
      "execution_count": 70,
      "outputs": [
        {
          "output_type": "execute_result",
          "data": {
            "text/plain": [
              "array([ 539,  540,  541, 1202, 1203, 1204, 1205, 1206, 1207, 1208, 1209,\n",
              "       1210, 1211, 1680, 1681, 1682, 1983, 1984, 3716, 3717, 3718, 3719,\n",
              "       4705, 4706, 4785, 4789, 4798, 5778, 5779, 5780, 5790, 5791, 5792,\n",
              "       5793, 6385, 6386, 6387, 6388, 6389, 6390, 6391, 6392, 6393, 6394,\n",
              "       6680, 6686, 6921, 6922, 6923, 6924, 6925, 6926, 6927, 6928, 6929,\n",
              "       6930, 6931, 6932, 6933, 6934, 6935, 6936, 6937, 6938, 7663, 7664,\n",
              "       7665, 7666, 7667, 7668, 7669, 7670, 7671, 7672, 7673, 7674, 7675,\n",
              "       7676, 7677, 7678, 7691, 7692, 7693, 7694, 7695, 7696, 7697, 7698,\n",
              "       7699, 7700, 7701, 7702, 7703, 7704, 7705, 7706, 7707, 7708, 8373,\n",
              "       8374, 8375, 9850, 9851, 9852, 9853, 9854, 9867, 9868, 9869, 9870,\n",
              "       9871, 9872])"
            ]
          },
          "metadata": {},
          "execution_count": 70
        }
      ]
    },
    {
      "cell_type": "markdown",
      "source": [
        "15. POPULARITY"
      ],
      "metadata": {
        "id": "T2CEkfAzUd7X"
      }
    },
    {
      "cell_type": "code",
      "source": [
        "Q1 = df['Popularity'].quantile(0.25)\n",
        "Q3 = df['Popularity'].quantile(0.75)\n",
        "IQR = Q3 - Q1\n",
        "lower_bound = Q1 - 1.5 * IQR\n",
        "upper_bound = Q3 + 1.5 * IQR\n",
        "\n",
        "potential_outliers = df[(df['Popularity'] < lower_bound) | (df['Popularity'] > upper_bound)]\n",
        "\n",
        "# Find the lower and upper bounds\n",
        "lower_bound = Q1 - 1.5*IQR\n",
        "upper_bound = Q3 + 1.5*IQR\n",
        "print(\"Upper bound:\", upper_bound)\n",
        "print(\"Lower bound:\", lower_bound)"
      ],
      "metadata": {
        "colab": {
          "base_uri": "https://localhost:8080/"
        },
        "id": "4hVgCzo9UYiR",
        "outputId": "12235932-8f36-42ce-b568-71378a0be6d3"
      },
      "execution_count": 71,
      "outputs": [
        {
          "output_type": "stream",
          "name": "stdout",
          "text": [
            "Upper bound: 4199.0\n",
            "Lower bound: -1641.0\n"
          ]
        }
      ]
    },
    {
      "cell_type": "markdown",
      "source": [
        "16. MSRP"
      ],
      "metadata": {
        "id": "hshVeXaOU0aN"
      }
    },
    {
      "cell_type": "code",
      "source": [
        "#outlier - zscore\n",
        "z_scores = stats.zscore(df['MSRP'])\n",
        "threshold = 3\n",
        "outlier_indices = np.where(z_scores > threshold)[0]\n",
        "outlier_indices"
      ],
      "metadata": {
        "colab": {
          "base_uri": "https://localhost:8080/"
        },
        "id": "hyGiIFjaU4-k",
        "outputId": "3cedc6d3-1209-4fe7-ab88-6c506a744044"
      },
      "execution_count": 72,
      "outputs": [
        {
          "output_type": "execute_result",
          "data": {
            "text/plain": [
              "array([  460,   462,   463,   464,   465,   466,   467,   468,   469,\n",
              "         470,   471,   472,   473,   598,   606,   608,   609,   611,\n",
              "         612,   613,   614,   615,   616,   617,   618,   619,   620,\n",
              "         621,   622,   682,   683,   684,   696,   697,   698,   699,\n",
              "         700,   701,   702,   703,   704,  1452,  1453,  1454,  1455,\n",
              "        1456,  1457,  1458,  1459,  1460,  1461,  1620,  1621,  1622,\n",
              "        1623,  1624,  1625,  1626,  1627,  1628,  1629,  1630,  1631,\n",
              "        1676,  1677,  1678,  1679,  2040,  2041,  2339,  2340,  2855,\n",
              "        2858,  2862,  2863,  2868,  2870,  2873,  2874,  2877,  2878,\n",
              "        2879,  2886,  2887,  2888,  2889,  2890,  2891,  2892,  2893,\n",
              "        2894,  2895,  2896,  2921,  3505,  3524,  3535,  3536,  3537,\n",
              "        3538,  3539,  3540,  3541,  3542,  3543,  3544,  3545,  3546,\n",
              "        3547,  3548,  3549,  3550,  3565,  4024,  4644,  4645,  4646,\n",
              "        4649,  4654,  4659,  4666,  4667,  4668,  4775,  5216,  5217,\n",
              "        5219,  5223,  5224,  5226,  5230,  5233,  5235,  5236,  5237,\n",
              "        5239,  5240,  5275,  5276,  5277,  5278,  5279,  5280,  5281,\n",
              "        5282,  5283,  5284,  5774,  5775,  5776,  6350,  6351,  6438,\n",
              "        6998,  6999,  7020,  7021,  7022,  7023,  7055,  7056,  7057,\n",
              "        7058,  7059,  7060,  7061,  7062,  7063,  7443,  7444,  7553,\n",
              "        7554,  7555,  7556,  7557,  7558,  7559,  7560,  7561,  7562,\n",
              "        7563,  7564,  8371,  8486,  8822,  8823,  8826,  8833,  8839,\n",
              "        8840,  9432,  9682,  9683,  9684,  9685,  9686,  9689, 10093,\n",
              "       10094, 10095, 11092, 11093, 11094, 11095, 11206, 11207, 11208,\n",
              "       11209, 11210, 11211, 11212, 11213, 11362, 11363, 11364, 11395,\n",
              "       11448, 11449, 11450])"
            ]
          },
          "metadata": {},
          "execution_count": 72
        }
      ]
    },
    {
      "cell_type": "code",
      "source": [
        "!pip install category_encoders"
      ],
      "metadata": {
        "colab": {
          "base_uri": "https://localhost:8080/"
        },
        "id": "F0SjUq5EWV5L",
        "outputId": "14b44d69-59ec-4511-db6c-3fbd890b42d2"
      },
      "execution_count": 73,
      "outputs": [
        {
          "output_type": "stream",
          "name": "stdout",
          "text": [
            "Looking in indexes: https://pypi.org/simple, https://us-python.pkg.dev/colab-wheels/public/simple/\n",
            "Collecting category_encoders\n",
            "  Downloading category_encoders-2.6.1-py2.py3-none-any.whl (81 kB)\n",
            "\u001b[2K     \u001b[90m━━━━━━━━━━━━━━━━━━━━━━━━━━━━━━━━━━━━━━━━\u001b[0m \u001b[32m81.9/81.9 kB\u001b[0m \u001b[31m2.9 MB/s\u001b[0m eta \u001b[36m0:00:00\u001b[0m\n",
            "\u001b[?25hRequirement already satisfied: numpy>=1.14.0 in /usr/local/lib/python3.10/dist-packages (from category_encoders) (1.22.4)\n",
            "Requirement already satisfied: scikit-learn>=0.20.0 in /usr/local/lib/python3.10/dist-packages (from category_encoders) (1.2.2)\n",
            "Requirement already satisfied: scipy>=1.0.0 in /usr/local/lib/python3.10/dist-packages (from category_encoders) (1.10.1)\n",
            "Requirement already satisfied: statsmodels>=0.9.0 in /usr/local/lib/python3.10/dist-packages (from category_encoders) (0.13.5)\n",
            "Requirement already satisfied: pandas>=1.0.5 in /usr/local/lib/python3.10/dist-packages (from category_encoders) (1.5.3)\n",
            "Requirement already satisfied: patsy>=0.5.1 in /usr/local/lib/python3.10/dist-packages (from category_encoders) (0.5.3)\n",
            "Requirement already satisfied: python-dateutil>=2.8.1 in /usr/local/lib/python3.10/dist-packages (from pandas>=1.0.5->category_encoders) (2.8.2)\n",
            "Requirement already satisfied: pytz>=2020.1 in /usr/local/lib/python3.10/dist-packages (from pandas>=1.0.5->category_encoders) (2022.7.1)\n",
            "Requirement already satisfied: six in /usr/local/lib/python3.10/dist-packages (from patsy>=0.5.1->category_encoders) (1.16.0)\n",
            "Requirement already satisfied: joblib>=1.1.1 in /usr/local/lib/python3.10/dist-packages (from scikit-learn>=0.20.0->category_encoders) (1.2.0)\n",
            "Requirement already satisfied: threadpoolctl>=2.0.0 in /usr/local/lib/python3.10/dist-packages (from scikit-learn>=0.20.0->category_encoders) (3.1.0)\n",
            "Requirement already satisfied: packaging>=21.3 in /usr/local/lib/python3.10/dist-packages (from statsmodels>=0.9.0->category_encoders) (23.1)\n",
            "Installing collected packages: category_encoders\n",
            "Successfully installed category_encoders-2.6.1\n"
          ]
        }
      ]
    },
    {
      "cell_type": "code",
      "source": [
        "#encoding - binary encoder\n",
        "\n",
        "import category_encoders as ce\n",
        "\n",
        "# Create an instance of the BinaryEncoder\n",
        "Make_binary_encoder = ce.BinaryEncoder(cols=['Make'])\n",
        "\n",
        "Make_binary = Make_binary_encoder.fit_transform(df['Make'])\n",
        "df = pd.concat([df, Make_binary], axis=1)"
      ],
      "metadata": {
        "id": "IaUUNYLhWWmy"
      },
      "execution_count": 74,
      "outputs": []
    },
    {
      "cell_type": "code",
      "source": [
        "Make_binary"
      ],
      "metadata": {
        "colab": {
          "base_uri": "https://localhost:8080/",
          "height": 424
        },
        "id": "4QKrAq-wXIvt",
        "outputId": "76bbaaca-7957-4284-f3e2-de7c3e69cf30"
      },
      "execution_count": 75,
      "outputs": [
        {
          "output_type": "execute_result",
          "data": {
            "text/plain": [
              "       Make_0  Make_1  Make_2  Make_3  Make_4  Make_5\n",
              "0           0       0       0       0       0       1\n",
              "1           0       0       0       0       0       1\n",
              "2           0       0       0       0       0       1\n",
              "3           0       0       0       0       0       1\n",
              "4           0       0       0       0       0       1\n",
              "...       ...     ...     ...     ...     ...     ...\n",
              "11909       1       0       0       1       0       0\n",
              "11910       1       0       0       1       0       0\n",
              "11911       1       0       0       1       0       0\n",
              "11912       1       0       0       1       0       0\n",
              "11913       0       1       1       1       1       1\n",
              "\n",
              "[11914 rows x 6 columns]"
            ],
            "text/html": [
              "\n",
              "  <div id=\"df-88f8cd8d-af65-4ce4-9ea2-02e421ca0bae\">\n",
              "    <div class=\"colab-df-container\">\n",
              "      <div>\n",
              "<style scoped>\n",
              "    .dataframe tbody tr th:only-of-type {\n",
              "        vertical-align: middle;\n",
              "    }\n",
              "\n",
              "    .dataframe tbody tr th {\n",
              "        vertical-align: top;\n",
              "    }\n",
              "\n",
              "    .dataframe thead th {\n",
              "        text-align: right;\n",
              "    }\n",
              "</style>\n",
              "<table border=\"1\" class=\"dataframe\">\n",
              "  <thead>\n",
              "    <tr style=\"text-align: right;\">\n",
              "      <th></th>\n",
              "      <th>Make_0</th>\n",
              "      <th>Make_1</th>\n",
              "      <th>Make_2</th>\n",
              "      <th>Make_3</th>\n",
              "      <th>Make_4</th>\n",
              "      <th>Make_5</th>\n",
              "    </tr>\n",
              "  </thead>\n",
              "  <tbody>\n",
              "    <tr>\n",
              "      <th>0</th>\n",
              "      <td>0</td>\n",
              "      <td>0</td>\n",
              "      <td>0</td>\n",
              "      <td>0</td>\n",
              "      <td>0</td>\n",
              "      <td>1</td>\n",
              "    </tr>\n",
              "    <tr>\n",
              "      <th>1</th>\n",
              "      <td>0</td>\n",
              "      <td>0</td>\n",
              "      <td>0</td>\n",
              "      <td>0</td>\n",
              "      <td>0</td>\n",
              "      <td>1</td>\n",
              "    </tr>\n",
              "    <tr>\n",
              "      <th>2</th>\n",
              "      <td>0</td>\n",
              "      <td>0</td>\n",
              "      <td>0</td>\n",
              "      <td>0</td>\n",
              "      <td>0</td>\n",
              "      <td>1</td>\n",
              "    </tr>\n",
              "    <tr>\n",
              "      <th>3</th>\n",
              "      <td>0</td>\n",
              "      <td>0</td>\n",
              "      <td>0</td>\n",
              "      <td>0</td>\n",
              "      <td>0</td>\n",
              "      <td>1</td>\n",
              "    </tr>\n",
              "    <tr>\n",
              "      <th>4</th>\n",
              "      <td>0</td>\n",
              "      <td>0</td>\n",
              "      <td>0</td>\n",
              "      <td>0</td>\n",
              "      <td>0</td>\n",
              "      <td>1</td>\n",
              "    </tr>\n",
              "    <tr>\n",
              "      <th>...</th>\n",
              "      <td>...</td>\n",
              "      <td>...</td>\n",
              "      <td>...</td>\n",
              "      <td>...</td>\n",
              "      <td>...</td>\n",
              "      <td>...</td>\n",
              "    </tr>\n",
              "    <tr>\n",
              "      <th>11909</th>\n",
              "      <td>1</td>\n",
              "      <td>0</td>\n",
              "      <td>0</td>\n",
              "      <td>1</td>\n",
              "      <td>0</td>\n",
              "      <td>0</td>\n",
              "    </tr>\n",
              "    <tr>\n",
              "      <th>11910</th>\n",
              "      <td>1</td>\n",
              "      <td>0</td>\n",
              "      <td>0</td>\n",
              "      <td>1</td>\n",
              "      <td>0</td>\n",
              "      <td>0</td>\n",
              "    </tr>\n",
              "    <tr>\n",
              "      <th>11911</th>\n",
              "      <td>1</td>\n",
              "      <td>0</td>\n",
              "      <td>0</td>\n",
              "      <td>1</td>\n",
              "      <td>0</td>\n",
              "      <td>0</td>\n",
              "    </tr>\n",
              "    <tr>\n",
              "      <th>11912</th>\n",
              "      <td>1</td>\n",
              "      <td>0</td>\n",
              "      <td>0</td>\n",
              "      <td>1</td>\n",
              "      <td>0</td>\n",
              "      <td>0</td>\n",
              "    </tr>\n",
              "    <tr>\n",
              "      <th>11913</th>\n",
              "      <td>0</td>\n",
              "      <td>1</td>\n",
              "      <td>1</td>\n",
              "      <td>1</td>\n",
              "      <td>1</td>\n",
              "      <td>1</td>\n",
              "    </tr>\n",
              "  </tbody>\n",
              "</table>\n",
              "<p>11914 rows × 6 columns</p>\n",
              "</div>\n",
              "      <button class=\"colab-df-convert\" onclick=\"convertToInteractive('df-88f8cd8d-af65-4ce4-9ea2-02e421ca0bae')\"\n",
              "              title=\"Convert this dataframe to an interactive table.\"\n",
              "              style=\"display:none;\">\n",
              "        \n",
              "  <svg xmlns=\"http://www.w3.org/2000/svg\" height=\"24px\"viewBox=\"0 0 24 24\"\n",
              "       width=\"24px\">\n",
              "    <path d=\"M0 0h24v24H0V0z\" fill=\"none\"/>\n",
              "    <path d=\"M18.56 5.44l.94 2.06.94-2.06 2.06-.94-2.06-.94-.94-2.06-.94 2.06-2.06.94zm-11 1L8.5 8.5l.94-2.06 2.06-.94-2.06-.94L8.5 2.5l-.94 2.06-2.06.94zm10 10l.94 2.06.94-2.06 2.06-.94-2.06-.94-.94-2.06-.94 2.06-2.06.94z\"/><path d=\"M17.41 7.96l-1.37-1.37c-.4-.4-.92-.59-1.43-.59-.52 0-1.04.2-1.43.59L10.3 9.45l-7.72 7.72c-.78.78-.78 2.05 0 2.83L4 21.41c.39.39.9.59 1.41.59.51 0 1.02-.2 1.41-.59l7.78-7.78 2.81-2.81c.8-.78.8-2.07 0-2.86zM5.41 20L4 18.59l7.72-7.72 1.47 1.35L5.41 20z\"/>\n",
              "  </svg>\n",
              "      </button>\n",
              "      \n",
              "  <style>\n",
              "    .colab-df-container {\n",
              "      display:flex;\n",
              "      flex-wrap:wrap;\n",
              "      gap: 12px;\n",
              "    }\n",
              "\n",
              "    .colab-df-convert {\n",
              "      background-color: #E8F0FE;\n",
              "      border: none;\n",
              "      border-radius: 50%;\n",
              "      cursor: pointer;\n",
              "      display: none;\n",
              "      fill: #1967D2;\n",
              "      height: 32px;\n",
              "      padding: 0 0 0 0;\n",
              "      width: 32px;\n",
              "    }\n",
              "\n",
              "    .colab-df-convert:hover {\n",
              "      background-color: #E2EBFA;\n",
              "      box-shadow: 0px 1px 2px rgba(60, 64, 67, 0.3), 0px 1px 3px 1px rgba(60, 64, 67, 0.15);\n",
              "      fill: #174EA6;\n",
              "    }\n",
              "\n",
              "    [theme=dark] .colab-df-convert {\n",
              "      background-color: #3B4455;\n",
              "      fill: #D2E3FC;\n",
              "    }\n",
              "\n",
              "    [theme=dark] .colab-df-convert:hover {\n",
              "      background-color: #434B5C;\n",
              "      box-shadow: 0px 1px 3px 1px rgba(0, 0, 0, 0.15);\n",
              "      filter: drop-shadow(0px 1px 2px rgba(0, 0, 0, 0.3));\n",
              "      fill: #FFFFFF;\n",
              "    }\n",
              "  </style>\n",
              "\n",
              "      <script>\n",
              "        const buttonEl =\n",
              "          document.querySelector('#df-88f8cd8d-af65-4ce4-9ea2-02e421ca0bae button.colab-df-convert');\n",
              "        buttonEl.style.display =\n",
              "          google.colab.kernel.accessAllowed ? 'block' : 'none';\n",
              "\n",
              "        async function convertToInteractive(key) {\n",
              "          const element = document.querySelector('#df-88f8cd8d-af65-4ce4-9ea2-02e421ca0bae');\n",
              "          const dataTable =\n",
              "            await google.colab.kernel.invokeFunction('convertToInteractive',\n",
              "                                                     [key], {});\n",
              "          if (!dataTable) return;\n",
              "\n",
              "          const docLinkHtml = 'Like what you see? Visit the ' +\n",
              "            '<a target=\"_blank\" href=https://colab.research.google.com/notebooks/data_table.ipynb>data table notebook</a>'\n",
              "            + ' to learn more about interactive tables.';\n",
              "          element.innerHTML = '';\n",
              "          dataTable['output_type'] = 'display_data';\n",
              "          await google.colab.output.renderOutput(dataTable, element);\n",
              "          const docLink = document.createElement('div');\n",
              "          docLink.innerHTML = docLinkHtml;\n",
              "          element.appendChild(docLink);\n",
              "        }\n",
              "      </script>\n",
              "    </div>\n",
              "  </div>\n",
              "  "
            ]
          },
          "metadata": {},
          "execution_count": 75
        }
      ]
    },
    {
      "cell_type": "markdown",
      "source": [
        "STANDARDIZATION AND NORMALIZATION"
      ],
      "metadata": {
        "id": "jQ4rc6T4aVix"
      }
    },
    {
      "cell_type": "code",
      "source": [
        "#choosing standardisation\n",
        "# Standardize the ENGINE HP column\n",
        "scaler = StandardScaler()\n",
        "Engine_HP_standardized = scaler.fit_transform(df['Engine HP'].values.reshape(-1, 1))\n",
        "\n",
        "# Convert the standardized column back to a pandas Series\n",
        "Engine_HP_standardized = pd.Series(Engine_HP_standardized.ravel())\n",
        "\n",
        "# Replace the original \n",
        "df['Engine HP'] = Engine_HP_standardized\n",
        "\n",
        "# Save the updated dataframe to a new CSV file\n",
        "df.to_csv('std_norm_dataset.csv', index=False)"
      ],
      "metadata": {
        "id": "qTnnI1m-abtI"
      },
      "execution_count": 78,
      "outputs": []
    },
    {
      "cell_type": "code",
      "source": [
        "#choosing standardisation\n",
        "# Standardize the ENGINE CYLINDERS column\n",
        "scaler = StandardScaler()\n",
        "Engine_Cylinders_standardized = scaler.fit_transform(df['Engine Cylinders'].values.reshape(-1, 1))\n",
        "\n",
        "# Convert the standardized column back to a pandas Series\n",
        "Engine_Cylinders_standardized = pd.Series(Engine_Cylinders_standardized.ravel())\n",
        "\n",
        "# Replace the original \n",
        "df['Engine Cylinders'] = Engine_Cylinders_standardized\n",
        "\n",
        "# Save the updated dataframe to a new CSV file\n",
        "df.to_csv('std_norm_dataset.csv', index=False)"
      ],
      "metadata": {
        "id": "JH7ioN9wb4fj"
      },
      "execution_count": 79,
      "outputs": []
    },
    {
      "cell_type": "code",
      "source": [
        "#choosing standardisation\n",
        "# Standardize the MSRP column\n",
        "scaler = StandardScaler()\n",
        "MSRP_standardized = scaler.fit_transform(df['MSRP'].values.reshape(-1, 1))\n",
        "\n",
        "# Convert the standardized column back to a pandas Series\n",
        "MSRP_standardized = pd.Series(MSRP_standardized.ravel())\n",
        "\n",
        "# Replace the original \n",
        "df['MSRP'] = MSRP_standardized\n",
        "\n",
        "# Save the updated dataframe to a new CSV file\n",
        "df.to_csv('std_norm_dataset.csv', index=False)"
      ],
      "metadata": {
        "id": "TR6jqqlzcMnO"
      },
      "execution_count": 80,
      "outputs": []
    },
    {
      "cell_type": "code",
      "source": [
        "#choosing standardisation\n",
        "# Standardize the POPULARITY column\n",
        "scaler = StandardScaler()\n",
        "Popularity_standardized = scaler.fit_transform(df['Popularity'].values.reshape(-1, 1))\n",
        "\n",
        "# Convert the standardized column back to a pandas Series\n",
        "Popularity_standardized = pd.Series(Popularity_standardized.ravel())\n",
        "\n",
        "# Replace the original \n",
        "df['Popularity'] = Popularity_standardized\n",
        "\n",
        "# Save the updated dataframe to a new CSV file\n",
        "df.to_csv('std_norm_dataset.csv', index=False)"
      ],
      "metadata": {
        "id": "0XvJKKP9cfAX"
      },
      "execution_count": 81,
      "outputs": []
    }
  ]
}